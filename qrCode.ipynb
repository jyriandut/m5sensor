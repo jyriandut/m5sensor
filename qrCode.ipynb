# pip install qrcode[pil]
import qrcode
from pathlib import Path

AP_SSID = "M5Stack_Ap"
AP_PASS = "66666666"
AP_URL  = "http://192.168.4.1/"

outdir = Path("qr_out"); outdir.mkdir(exist_ok=True)

wifi_payload = f"WIFI:T:WPA;S:{AP_SSID};P:{AP_PASS};;"
img_wifi = qrcode.make(wifi_payload)
img_wifi.save(outdir / "wifi_connect_qr.png")

info_text = (
    f"WiFi SSID: {AP_SSID}\n"
    f"WiFi PASS: {AP_PASS}\n"
    f"Open UI:   {AP_URL}\n"
    f"(If page does not open automatically, type URL in browser)"
)
img_info = qrcode.make(info_text)
img_info.save(outdir / "atom_info_qr.png")

print("Saved:", (outdir / "wifi_connect_qr.png").as_posix(), "and", (outdir / "atom_info_qr.png").as_posix())
